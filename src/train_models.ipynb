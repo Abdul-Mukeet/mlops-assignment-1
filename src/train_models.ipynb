{
 "cells": [
  {
   "cell_type": "code",
   "execution_count": 1,
   "id": "d4f26cca",
   "metadata": {},
   "outputs": [],
   "source": [
    "import os\n",
    "import pickle\n",
    "import mlflow\n",
    "import mlflow.sklearn\n",
    "import matplotlib.pyplot as plt\n",
    "import seaborn as sns\n",
    "\n",
    "from sklearn.datasets import load_iris\n",
    "from sklearn.model_selection import train_test_split\n",
    "from sklearn.linear_model import LogisticRegression\n",
    "from sklearn.ensemble import RandomForestClassifier\n",
    "from sklearn.svm import SVC\n",
    "from sklearn.metrics import (\n",
    "    accuracy_score, precision_score, recall_score, f1_score, confusion_matrix\n",
    ")\n"
   ]
  },
  {
   "cell_type": "code",
   "execution_count": 2,
   "id": "6d2f4260",
   "metadata": {},
   "outputs": [
    {
     "data": {
      "text/plain": [
       "<Experiment: artifact_location='file:///C:/Users/moeda/mlops-assignment-1/src/../mlruns/423857567884080182', creation_time=1758049447579, experiment_id='423857567884080182', last_update_time=1758049447579, lifecycle_stage='active', name='mlops-assignment-1', tags={}>"
      ]
     },
     "execution_count": 2,
     "metadata": {},
     "output_type": "execute_result"
    }
   ],
   "source": [
    "# Create results and models folders\n",
    "RESULTS_DIR = \"../results\"\n",
    "MODELS_DIR = \"../models\"\n",
    "os.makedirs(RESULTS_DIR, exist_ok=True)\n",
    "os.makedirs(MODELS_DIR, exist_ok=True)\n",
    "\n",
    "# Setup MLflow tracking\n",
    "mlflow.set_tracking_uri(\"file:../mlruns\")  # logs stored in mlruns folder\n",
    "mlflow.set_experiment(\"mlops-assignment-1\")\n"
   ]
  },
  {
   "cell_type": "code",
   "execution_count": 3,
   "id": "afb938fc",
   "metadata": {},
   "outputs": [],
   "source": [
    "def train_and_log(model, model_name, X_train, X_test, y_train, y_test):\n",
    "    \"\"\"Train a model and log params, metrics, artifacts with MLflow.\"\"\"\n",
    "    with mlflow.start_run(run_name=model_name):\n",
    "        # Train\n",
    "        model.fit(X_train, y_train)\n",
    "        y_pred = model.predict(X_test)\n",
    "\n",
    "        # Metrics\n",
    "        acc = accuracy_score(y_test, y_pred)\n",
    "        prec = precision_score(y_test, y_pred, average=\"macro\", zero_division=0)\n",
    "        rec = recall_score(y_test, y_pred, average=\"macro\", zero_division=0)\n",
    "        f1 = f1_score(y_test, y_pred, average=\"macro\", zero_division=0)\n",
    "\n",
    "        # Log parameters & metrics\n",
    "        mlflow.log_params({k: str(v) for k, v in model.get_params().items()})\n",
    "        mlflow.log_metric(\"accuracy\", acc)\n",
    "        mlflow.log_metric(\"precision\", prec)\n",
    "        mlflow.log_metric(\"recall\", rec)\n",
    "        mlflow.log_metric(\"f1_score\", f1)\n",
    "\n",
    "        # Confusion Matrix plot\n",
    "        cm = confusion_matrix(y_test, y_pred)\n",
    "        plt.figure(figsize=(5, 5))\n",
    "        sns.heatmap(cm, annot=True, fmt=\"d\", cmap=\"Blues\")\n",
    "        plt.title(f\"Confusion Matrix - {model_name}\")\n",
    "        plt.xlabel(\"Predicted\")\n",
    "        plt.ylabel(\"True\")\n",
    "        cm_path = os.path.join(RESULTS_DIR, f\"{model_name}_cm.png\")\n",
    "        plt.savefig(cm_path, bbox_inches=\"tight\")\n",
    "        plt.close()\n",
    "        mlflow.log_artifact(cm_path, artifact_path=\"confusion_matrices\")\n",
    "\n",
    "        # Save model locally & log to MLflow\n",
    "        local_model_path = os.path.join(MODELS_DIR, f\"{model_name}.pkl\")\n",
    "        with open(local_model_path, \"wb\") as f:\n",
    "            pickle.dump(model, f)\n",
    "        mlflow.log_artifact(local_model_path, artifact_path=\"saved_models\")\n",
    "        mlflow.sklearn.log_model(model, artifact_path=f\"sklearn_models/{model_name}\")\n",
    "\n",
    "        print(f\"✅ {model_name} logged | acc={acc:.3f}, prec={prec:.3f}, rec={rec:.3f}, f1={f1:.3f}\")\n"
   ]
  },
  {
   "cell_type": "code",
   "execution_count": 4,
   "id": "8dd82d8e",
   "metadata": {},
   "outputs": [
    {
     "name": "stderr",
     "output_type": "stream",
     "text": [
      "2025/09/17 10:28:01 WARNING mlflow.models.model: `artifact_path` is deprecated. Please use `name` instead.\n"
     ]
    },
    {
     "ename": "MlflowException",
     "evalue": "Invalid model name ('sklearn_models/LogisticRegression') provided. Model name must be a non-empty string and cannot contain the following characters: ('/', ':', '.', '%', '\"', \"'\")",
     "output_type": "error",
     "traceback": [
      "\u001b[1;31m---------------------------------------------------------------------------\u001b[0m",
      "\u001b[1;31mMlflowException\u001b[0m                           Traceback (most recent call last)",
      "Cell \u001b[1;32mIn[4], line 15\u001b[0m\n\u001b[0;32m      8\u001b[0m models \u001b[38;5;241m=\u001b[39m [\n\u001b[0;32m      9\u001b[0m     (LogisticRegression(max_iter\u001b[38;5;241m=\u001b[39m\u001b[38;5;241m500\u001b[39m, solver\u001b[38;5;241m=\u001b[39m\u001b[38;5;124m\"\u001b[39m\u001b[38;5;124mliblinear\u001b[39m\u001b[38;5;124m\"\u001b[39m), \u001b[38;5;124m\"\u001b[39m\u001b[38;5;124mLogisticRegression\u001b[39m\u001b[38;5;124m\"\u001b[39m),\n\u001b[0;32m     10\u001b[0m     (RandomForestClassifier(n_estimators\u001b[38;5;241m=\u001b[39m\u001b[38;5;241m50\u001b[39m, random_state\u001b[38;5;241m=\u001b[39m\u001b[38;5;241m42\u001b[39m, max_depth\u001b[38;5;241m=\u001b[39m\u001b[38;5;241m2\u001b[39m), \u001b[38;5;124m\"\u001b[39m\u001b[38;5;124mRandomForest\u001b[39m\u001b[38;5;124m\"\u001b[39m),\n\u001b[0;32m     11\u001b[0m     (SVC(kernel\u001b[38;5;241m=\u001b[39m\u001b[38;5;124m\"\u001b[39m\u001b[38;5;124mrbf\u001b[39m\u001b[38;5;124m\"\u001b[39m, probability\u001b[38;5;241m=\u001b[39m\u001b[38;5;28;01mTrue\u001b[39;00m, gamma\u001b[38;5;241m=\u001b[39m\u001b[38;5;241m0.7\u001b[39m), \u001b[38;5;124m\"\u001b[39m\u001b[38;5;124mSVM\u001b[39m\u001b[38;5;124m\"\u001b[39m),\n\u001b[0;32m     12\u001b[0m ]\n\u001b[0;32m     14\u001b[0m \u001b[38;5;28;01mfor\u001b[39;00m model, name \u001b[38;5;129;01min\u001b[39;00m models:\n\u001b[1;32m---> 15\u001b[0m     train_and_log(model, name, X_train, X_test, y_train, y_test)\n\u001b[0;32m     17\u001b[0m \u001b[38;5;28mprint\u001b[39m(\u001b[38;5;124m\"\u001b[39m\u001b[38;5;130;01m\\n\u001b[39;00m\u001b[38;5;124m🎉 All models logged! Check MLflow UI at http://127.0.0.1:5000\u001b[39m\u001b[38;5;124m\"\u001b[39m)\n",
      "Cell \u001b[1;32mIn[3], line 38\u001b[0m, in \u001b[0;36mtrain_and_log\u001b[1;34m(model, model_name, X_train, X_test, y_train, y_test)\u001b[0m\n\u001b[0;32m     36\u001b[0m     pickle\u001b[38;5;241m.\u001b[39mdump(model, f)\n\u001b[0;32m     37\u001b[0m mlflow\u001b[38;5;241m.\u001b[39mlog_artifact(local_model_path, artifact_path\u001b[38;5;241m=\u001b[39m\u001b[38;5;124m\"\u001b[39m\u001b[38;5;124msaved_models\u001b[39m\u001b[38;5;124m\"\u001b[39m)\n\u001b[1;32m---> 38\u001b[0m mlflow\u001b[38;5;241m.\u001b[39msklearn\u001b[38;5;241m.\u001b[39mlog_model(model, artifact_path\u001b[38;5;241m=\u001b[39m\u001b[38;5;124mf\u001b[39m\u001b[38;5;124m\"\u001b[39m\u001b[38;5;124msklearn_models/\u001b[39m\u001b[38;5;132;01m{\u001b[39;00mmodel_name\u001b[38;5;132;01m}\u001b[39;00m\u001b[38;5;124m\"\u001b[39m)\n\u001b[0;32m     40\u001b[0m \u001b[38;5;28mprint\u001b[39m(\u001b[38;5;124mf\u001b[39m\u001b[38;5;124m\"\u001b[39m\u001b[38;5;124m✅ \u001b[39m\u001b[38;5;132;01m{\u001b[39;00mmodel_name\u001b[38;5;132;01m}\u001b[39;00m\u001b[38;5;124m logged | acc=\u001b[39m\u001b[38;5;132;01m{\u001b[39;00macc\u001b[38;5;132;01m:\u001b[39;00m\u001b[38;5;124m.3f\u001b[39m\u001b[38;5;132;01m}\u001b[39;00m\u001b[38;5;124m, prec=\u001b[39m\u001b[38;5;132;01m{\u001b[39;00mprec\u001b[38;5;132;01m:\u001b[39;00m\u001b[38;5;124m.3f\u001b[39m\u001b[38;5;132;01m}\u001b[39;00m\u001b[38;5;124m, rec=\u001b[39m\u001b[38;5;132;01m{\u001b[39;00mrec\u001b[38;5;132;01m:\u001b[39;00m\u001b[38;5;124m.3f\u001b[39m\u001b[38;5;132;01m}\u001b[39;00m\u001b[38;5;124m, f1=\u001b[39m\u001b[38;5;132;01m{\u001b[39;00mf1\u001b[38;5;132;01m:\u001b[39;00m\u001b[38;5;124m.3f\u001b[39m\u001b[38;5;132;01m}\u001b[39;00m\u001b[38;5;124m\"\u001b[39m)\n",
      "File \u001b[1;32m~\\anaconda3\\Lib\\site-packages\\mlflow\\sklearn\\__init__.py:426\u001b[0m, in \u001b[0;36mlog_model\u001b[1;34m(sk_model, artifact_path, conda_env, code_paths, serialization_format, registered_model_name, signature, input_example, await_registration_for, pip_requirements, extra_pip_requirements, pyfunc_predict_fn, metadata, params, tags, model_type, step, model_id, name)\u001b[0m\n\u001b[0;32m    334\u001b[0m \u001b[38;5;129m@format_docstring\u001b[39m(LOG_MODEL_PARAM_DOCS\u001b[38;5;241m.\u001b[39mformat(package_name\u001b[38;5;241m=\u001b[39m\u001b[38;5;124m\"\u001b[39m\u001b[38;5;124mscikit-learn\u001b[39m\u001b[38;5;124m\"\u001b[39m))\n\u001b[0;32m    335\u001b[0m \u001b[38;5;28;01mdef\u001b[39;00m \u001b[38;5;21mlog_model\u001b[39m(\n\u001b[0;32m    336\u001b[0m     sk_model,\n\u001b[1;32m   (...)\u001b[0m\n\u001b[0;32m    355\u001b[0m     name: \u001b[38;5;28mstr\u001b[39m \u001b[38;5;241m|\u001b[39m \u001b[38;5;28;01mNone\u001b[39;00m \u001b[38;5;241m=\u001b[39m \u001b[38;5;28;01mNone\u001b[39;00m,\n\u001b[0;32m    356\u001b[0m ):\n\u001b[0;32m    357\u001b[0m \u001b[38;5;250m    \u001b[39m\u001b[38;5;124;03m\"\"\"\u001b[39;00m\n\u001b[0;32m    358\u001b[0m \u001b[38;5;124;03m    Log a scikit-learn model as an MLflow artifact for the current run. Produces an MLflow Model\u001b[39;00m\n\u001b[0;32m    359\u001b[0m \u001b[38;5;124;03m    containing the following flavors:\u001b[39;00m\n\u001b[1;32m   (...)\u001b[0m\n\u001b[0;32m    424\u001b[0m \n\u001b[0;32m    425\u001b[0m \u001b[38;5;124;03m    \"\"\"\u001b[39;00m\n\u001b[1;32m--> 426\u001b[0m     \u001b[38;5;28;01mreturn\u001b[39;00m Model\u001b[38;5;241m.\u001b[39mlog(\n\u001b[0;32m    427\u001b[0m         artifact_path\u001b[38;5;241m=\u001b[39martifact_path,\n\u001b[0;32m    428\u001b[0m         name\u001b[38;5;241m=\u001b[39mname,\n\u001b[0;32m    429\u001b[0m         flavor\u001b[38;5;241m=\u001b[39mmlflow\u001b[38;5;241m.\u001b[39msklearn,\n\u001b[0;32m    430\u001b[0m         sk_model\u001b[38;5;241m=\u001b[39msk_model,\n\u001b[0;32m    431\u001b[0m         conda_env\u001b[38;5;241m=\u001b[39mconda_env,\n\u001b[0;32m    432\u001b[0m         code_paths\u001b[38;5;241m=\u001b[39mcode_paths,\n\u001b[0;32m    433\u001b[0m         serialization_format\u001b[38;5;241m=\u001b[39mserialization_format,\n\u001b[0;32m    434\u001b[0m         registered_model_name\u001b[38;5;241m=\u001b[39mregistered_model_name,\n\u001b[0;32m    435\u001b[0m         signature\u001b[38;5;241m=\u001b[39msignature,\n\u001b[0;32m    436\u001b[0m         input_example\u001b[38;5;241m=\u001b[39minput_example,\n\u001b[0;32m    437\u001b[0m         await_registration_for\u001b[38;5;241m=\u001b[39mawait_registration_for,\n\u001b[0;32m    438\u001b[0m         pip_requirements\u001b[38;5;241m=\u001b[39mpip_requirements,\n\u001b[0;32m    439\u001b[0m         extra_pip_requirements\u001b[38;5;241m=\u001b[39mextra_pip_requirements,\n\u001b[0;32m    440\u001b[0m         pyfunc_predict_fn\u001b[38;5;241m=\u001b[39mpyfunc_predict_fn,\n\u001b[0;32m    441\u001b[0m         metadata\u001b[38;5;241m=\u001b[39mmetadata,\n\u001b[0;32m    442\u001b[0m         params\u001b[38;5;241m=\u001b[39mparams,\n\u001b[0;32m    443\u001b[0m         tags\u001b[38;5;241m=\u001b[39mtags,\n\u001b[0;32m    444\u001b[0m         model_type\u001b[38;5;241m=\u001b[39mmodel_type,\n\u001b[0;32m    445\u001b[0m         step\u001b[38;5;241m=\u001b[39mstep,\n\u001b[0;32m    446\u001b[0m         model_id\u001b[38;5;241m=\u001b[39mmodel_id,\n\u001b[0;32m    447\u001b[0m     )\n",
      "File \u001b[1;32m~\\anaconda3\\Lib\\site-packages\\mlflow\\models\\model.py:1169\u001b[0m, in \u001b[0;36mModel.log\u001b[1;34m(cls, artifact_path, flavor, registered_model_name, await_registration_for, metadata, run_id, resources, auth_policy, prompts, name, model_type, params, tags, step, model_id, **kwargs)\u001b[0m\n\u001b[0;32m   1167\u001b[0m \u001b[38;5;28;01mif\u001b[39;00m flavor_name \u001b[38;5;129;01mis\u001b[39;00m \u001b[38;5;28;01mNone\u001b[39;00m:\n\u001b[0;32m   1168\u001b[0m     flavor_name \u001b[38;5;241m=\u001b[39m flavor\u001b[38;5;241m.\u001b[39m\u001b[38;5;18m__name__\u001b[39m \u001b[38;5;28;01mif\u001b[39;00m \u001b[38;5;28mhasattr\u001b[39m(flavor, \u001b[38;5;124m\"\u001b[39m\u001b[38;5;124m__name__\u001b[39m\u001b[38;5;124m\"\u001b[39m) \u001b[38;5;28;01melse\u001b[39;00m \u001b[38;5;124m\"\u001b[39m\u001b[38;5;124mcustom\u001b[39m\u001b[38;5;124m\"\u001b[39m\n\u001b[1;32m-> 1169\u001b[0m model \u001b[38;5;241m=\u001b[39m _create_logged_model(\n\u001b[0;32m   1170\u001b[0m     \u001b[38;5;66;03m# TODO: Update model name\u001b[39;00m\n\u001b[0;32m   1171\u001b[0m     name\u001b[38;5;241m=\u001b[39mname,\n\u001b[0;32m   1172\u001b[0m     source_run_id\u001b[38;5;241m=\u001b[39mrun_id,\n\u001b[0;32m   1173\u001b[0m     model_type\u001b[38;5;241m=\u001b[39mmodel_type,\n\u001b[0;32m   1174\u001b[0m     params\u001b[38;5;241m=\u001b[39m{key: \u001b[38;5;28mstr\u001b[39m(value) \u001b[38;5;28;01mfor\u001b[39;00m key, value \u001b[38;5;129;01min\u001b[39;00m params\u001b[38;5;241m.\u001b[39mitems()},\n\u001b[0;32m   1175\u001b[0m     tags\u001b[38;5;241m=\u001b[39m{key: \u001b[38;5;28mstr\u001b[39m(value) \u001b[38;5;28;01mfor\u001b[39;00m key, value \u001b[38;5;129;01min\u001b[39;00m tags\u001b[38;5;241m.\u001b[39mitems()}\n\u001b[0;32m   1176\u001b[0m     \u001b[38;5;28;01mif\u001b[39;00m tags \u001b[38;5;129;01mis\u001b[39;00m \u001b[38;5;129;01mnot\u001b[39;00m \u001b[38;5;28;01mNone\u001b[39;00m\n\u001b[0;32m   1177\u001b[0m     \u001b[38;5;28;01melse\u001b[39;00m \u001b[38;5;28;01mNone\u001b[39;00m,\n\u001b[0;32m   1178\u001b[0m     flavor\u001b[38;5;241m=\u001b[39mflavor_name,\n\u001b[0;32m   1179\u001b[0m )\n\u001b[0;32m   1180\u001b[0m _last_logged_model_id\u001b[38;5;241m.\u001b[39mset(model\u001b[38;5;241m.\u001b[39mmodel_id)\n\u001b[0;32m   1181\u001b[0m \u001b[38;5;28;01mif\u001b[39;00m (\n\u001b[0;32m   1182\u001b[0m     MLFLOW_PRINT_MODEL_URLS_ON_CREATION\u001b[38;5;241m.\u001b[39mget()\n\u001b[0;32m   1183\u001b[0m     \u001b[38;5;129;01mand\u001b[39;00m is_databricks_uri(tracking_uri)\n\u001b[0;32m   1184\u001b[0m     \u001b[38;5;129;01mand\u001b[39;00m (workspace_url \u001b[38;5;241m:=\u001b[39m get_workspace_url())\n\u001b[0;32m   1185\u001b[0m ):\n",
      "File \u001b[1;32m~\\anaconda3\\Lib\\site-packages\\mlflow\\tracking\\fluent.py:2305\u001b[0m, in \u001b[0;36m_create_logged_model\u001b[1;34m(name, source_run_id, tags, params, model_type, experiment_id, flavor)\u001b[0m\n\u001b[0;32m   2301\u001b[0m     experiment_id \u001b[38;5;241m=\u001b[39m _get_experiment_id() \u001b[38;5;129;01mor\u001b[39;00m (\n\u001b[0;32m   2302\u001b[0m         get_run(source_run_id)\u001b[38;5;241m.\u001b[39minfo\u001b[38;5;241m.\u001b[39mexperiment_id \u001b[38;5;28;01mif\u001b[39;00m source_run_id \u001b[38;5;28;01melse\u001b[39;00m \u001b[38;5;28;01mNone\u001b[39;00m\n\u001b[0;32m   2303\u001b[0m     )\n\u001b[0;32m   2304\u001b[0m resolved_tags \u001b[38;5;241m=\u001b[39m context_registry\u001b[38;5;241m.\u001b[39mresolve_tags(tags)\n\u001b[1;32m-> 2305\u001b[0m \u001b[38;5;28;01mreturn\u001b[39;00m MlflowClient()\u001b[38;5;241m.\u001b[39m_create_logged_model(\n\u001b[0;32m   2306\u001b[0m     experiment_id\u001b[38;5;241m=\u001b[39mexperiment_id,\n\u001b[0;32m   2307\u001b[0m     name\u001b[38;5;241m=\u001b[39mname,\n\u001b[0;32m   2308\u001b[0m     source_run_id\u001b[38;5;241m=\u001b[39msource_run_id,\n\u001b[0;32m   2309\u001b[0m     tags\u001b[38;5;241m=\u001b[39mresolved_tags,\n\u001b[0;32m   2310\u001b[0m     params\u001b[38;5;241m=\u001b[39mparams,\n\u001b[0;32m   2311\u001b[0m     model_type\u001b[38;5;241m=\u001b[39mmodel_type,\n\u001b[0;32m   2312\u001b[0m     flavor\u001b[38;5;241m=\u001b[39mflavor,\n\u001b[0;32m   2313\u001b[0m )\n",
      "File \u001b[1;32m~\\anaconda3\\Lib\\site-packages\\mlflow\\tracking\\client.py:5394\u001b[0m, in \u001b[0;36mMlflowClient._create_logged_model\u001b[1;34m(self, experiment_id, name, source_run_id, tags, params, model_type, flavor)\u001b[0m\n\u001b[0;32m   5384\u001b[0m \u001b[38;5;28;01mdef\u001b[39;00m \u001b[38;5;21m_create_logged_model\u001b[39m(\n\u001b[0;32m   5385\u001b[0m     \u001b[38;5;28mself\u001b[39m,\n\u001b[0;32m   5386\u001b[0m     experiment_id: \u001b[38;5;28mstr\u001b[39m,\n\u001b[1;32m   (...)\u001b[0m\n\u001b[0;32m   5392\u001b[0m     flavor: \u001b[38;5;28mstr\u001b[39m \u001b[38;5;241m|\u001b[39m \u001b[38;5;28;01mNone\u001b[39;00m \u001b[38;5;241m=\u001b[39m \u001b[38;5;28;01mNone\u001b[39;00m,\n\u001b[0;32m   5393\u001b[0m ) \u001b[38;5;241m-\u001b[39m\u001b[38;5;241m>\u001b[39m LoggedModel:\n\u001b[1;32m-> 5394\u001b[0m     \u001b[38;5;28;01mreturn\u001b[39;00m \u001b[38;5;28mself\u001b[39m\u001b[38;5;241m.\u001b[39m_tracking_client\u001b[38;5;241m.\u001b[39mcreate_logged_model(\n\u001b[0;32m   5395\u001b[0m         experiment_id, name, source_run_id, tags, params, model_type, flavor\n\u001b[0;32m   5396\u001b[0m     )\n",
      "File \u001b[1;32m~\\anaconda3\\Lib\\site-packages\\mlflow\\telemetry\\track.py:29\u001b[0m, in \u001b[0;36mrecord_usage_event.<locals>.decorator.<locals>.wrapper\u001b[1;34m(*args, **kwargs)\u001b[0m\n\u001b[0;32m     27\u001b[0m start_time \u001b[38;5;241m=\u001b[39m time\u001b[38;5;241m.\u001b[39mtime()\n\u001b[0;32m     28\u001b[0m \u001b[38;5;28;01mtry\u001b[39;00m:\n\u001b[1;32m---> 29\u001b[0m     result \u001b[38;5;241m=\u001b[39m func(\u001b[38;5;241m*\u001b[39margs, \u001b[38;5;241m*\u001b[39m\u001b[38;5;241m*\u001b[39mkwargs)\n\u001b[0;32m     30\u001b[0m     \u001b[38;5;28;01mreturn\u001b[39;00m result  \u001b[38;5;66;03m# noqa: RET504\u001b[39;00m\n\u001b[0;32m     31\u001b[0m \u001b[38;5;28;01mexcept\u001b[39;00m \u001b[38;5;167;01mException\u001b[39;00m:\n",
      "File \u001b[1;32m~\\anaconda3\\Lib\\site-packages\\mlflow\\tracking\\_tracking_service\\client.py:860\u001b[0m, in \u001b[0;36mTrackingServiceClient.create_logged_model\u001b[1;34m(self, experiment_id, name, source_run_id, tags, params, model_type, flavor)\u001b[0m\n\u001b[0;32m    847\u001b[0m \u001b[38;5;129m@record_usage_event\u001b[39m(CreateLoggedModelEvent)\n\u001b[0;32m    848\u001b[0m \u001b[38;5;28;01mdef\u001b[39;00m \u001b[38;5;21mcreate_logged_model\u001b[39m(\n\u001b[0;32m    849\u001b[0m     \u001b[38;5;28mself\u001b[39m,\n\u001b[1;32m   (...)\u001b[0m\n\u001b[0;32m    858\u001b[0m     flavor: \u001b[38;5;28mstr\u001b[39m \u001b[38;5;241m|\u001b[39m \u001b[38;5;28;01mNone\u001b[39;00m \u001b[38;5;241m=\u001b[39m \u001b[38;5;28;01mNone\u001b[39;00m,\n\u001b[0;32m    859\u001b[0m ) \u001b[38;5;241m-\u001b[39m\u001b[38;5;241m>\u001b[39m LoggedModel:\n\u001b[1;32m--> 860\u001b[0m     \u001b[38;5;28;01mreturn\u001b[39;00m \u001b[38;5;28mself\u001b[39m\u001b[38;5;241m.\u001b[39mstore\u001b[38;5;241m.\u001b[39mcreate_logged_model(\n\u001b[0;32m    861\u001b[0m         experiment_id\u001b[38;5;241m=\u001b[39mexperiment_id,\n\u001b[0;32m    862\u001b[0m         name\u001b[38;5;241m=\u001b[39mname,\n\u001b[0;32m    863\u001b[0m         source_run_id\u001b[38;5;241m=\u001b[39msource_run_id,\n\u001b[0;32m    864\u001b[0m         tags\u001b[38;5;241m=\u001b[39m[LoggedModelTag(\u001b[38;5;28mstr\u001b[39m(key), \u001b[38;5;28mstr\u001b[39m(value)) \u001b[38;5;28;01mfor\u001b[39;00m key, value \u001b[38;5;129;01min\u001b[39;00m tags\u001b[38;5;241m.\u001b[39mitems()]\n\u001b[0;32m    865\u001b[0m         \u001b[38;5;28;01mif\u001b[39;00m tags \u001b[38;5;129;01mis\u001b[39;00m \u001b[38;5;129;01mnot\u001b[39;00m \u001b[38;5;28;01mNone\u001b[39;00m\n\u001b[0;32m    866\u001b[0m         \u001b[38;5;28;01melse\u001b[39;00m tags,\n\u001b[0;32m    867\u001b[0m         params\u001b[38;5;241m=\u001b[39m[LoggedModelParameter(\u001b[38;5;28mstr\u001b[39m(key), \u001b[38;5;28mstr\u001b[39m(value)) \u001b[38;5;28;01mfor\u001b[39;00m key, value \u001b[38;5;129;01min\u001b[39;00m params\u001b[38;5;241m.\u001b[39mitems()]\n\u001b[0;32m    868\u001b[0m         \u001b[38;5;28;01mif\u001b[39;00m params \u001b[38;5;129;01mis\u001b[39;00m \u001b[38;5;129;01mnot\u001b[39;00m \u001b[38;5;28;01mNone\u001b[39;00m\n\u001b[0;32m    869\u001b[0m         \u001b[38;5;28;01melse\u001b[39;00m params,\n\u001b[0;32m    870\u001b[0m         model_type\u001b[38;5;241m=\u001b[39mmodel_type,\n\u001b[0;32m    871\u001b[0m     )\n",
      "File \u001b[1;32m~\\anaconda3\\Lib\\site-packages\\mlflow\\store\\tracking\\file_store.py:2237\u001b[0m, in \u001b[0;36mFileStore.create_logged_model\u001b[1;34m(self, experiment_id, name, source_run_id, tags, params, model_type)\u001b[0m\n\u001b[0;32m   2214\u001b[0m \u001b[38;5;28;01mdef\u001b[39;00m \u001b[38;5;21mcreate_logged_model\u001b[39m(\n\u001b[0;32m   2215\u001b[0m     \u001b[38;5;28mself\u001b[39m,\n\u001b[0;32m   2216\u001b[0m     experiment_id: \u001b[38;5;28mstr\u001b[39m \u001b[38;5;241m=\u001b[39m DEFAULT_EXPERIMENT_ID,\n\u001b[1;32m   (...)\u001b[0m\n\u001b[0;32m   2221\u001b[0m     model_type: \u001b[38;5;28mstr\u001b[39m \u001b[38;5;241m|\u001b[39m \u001b[38;5;28;01mNone\u001b[39;00m \u001b[38;5;241m=\u001b[39m \u001b[38;5;28;01mNone\u001b[39;00m,\n\u001b[0;32m   2222\u001b[0m ) \u001b[38;5;241m-\u001b[39m\u001b[38;5;241m>\u001b[39m LoggedModel:\n\u001b[0;32m   2223\u001b[0m \u001b[38;5;250m    \u001b[39m\u001b[38;5;124;03m\"\"\"\u001b[39;00m\n\u001b[0;32m   2224\u001b[0m \u001b[38;5;124;03m    Create a new logged model.\u001b[39;00m\n\u001b[0;32m   2225\u001b[0m \n\u001b[1;32m   (...)\u001b[0m\n\u001b[0;32m   2235\u001b[0m \u001b[38;5;124;03m        The created model.\u001b[39;00m\n\u001b[0;32m   2236\u001b[0m \u001b[38;5;124;03m    \"\"\"\u001b[39;00m\n\u001b[1;32m-> 2237\u001b[0m     _validate_logged_model_name(name)\n\u001b[0;32m   2238\u001b[0m     experiment \u001b[38;5;241m=\u001b[39m \u001b[38;5;28mself\u001b[39m\u001b[38;5;241m.\u001b[39mget_experiment(experiment_id)\n\u001b[0;32m   2239\u001b[0m     \u001b[38;5;28;01mif\u001b[39;00m experiment \u001b[38;5;129;01mis\u001b[39;00m \u001b[38;5;28;01mNone\u001b[39;00m:\n",
      "File \u001b[1;32m~\\anaconda3\\Lib\\site-packages\\mlflow\\utils\\validation.py:666\u001b[0m, in \u001b[0;36m_validate_logged_model_name\u001b[1;34m(name)\u001b[0m\n\u001b[0;32m    664\u001b[0m bad_chars \u001b[38;5;241m=\u001b[39m (\u001b[38;5;124m\"\u001b[39m\u001b[38;5;124m/\u001b[39m\u001b[38;5;124m\"\u001b[39m, \u001b[38;5;124m\"\u001b[39m\u001b[38;5;124m:\u001b[39m\u001b[38;5;124m\"\u001b[39m, \u001b[38;5;124m\"\u001b[39m\u001b[38;5;124m.\u001b[39m\u001b[38;5;124m\"\u001b[39m, \u001b[38;5;124m\"\u001b[39m\u001b[38;5;124m%\u001b[39m\u001b[38;5;124m\"\u001b[39m, \u001b[38;5;124m'\u001b[39m\u001b[38;5;124m\"\u001b[39m\u001b[38;5;124m'\u001b[39m, \u001b[38;5;124m\"\u001b[39m\u001b[38;5;124m'\u001b[39m\u001b[38;5;124m\"\u001b[39m)\n\u001b[0;32m    665\u001b[0m \u001b[38;5;28;01mif\u001b[39;00m \u001b[38;5;129;01mnot\u001b[39;00m name \u001b[38;5;129;01mor\u001b[39;00m \u001b[38;5;28many\u001b[39m(c \u001b[38;5;129;01min\u001b[39;00m name \u001b[38;5;28;01mfor\u001b[39;00m c \u001b[38;5;129;01min\u001b[39;00m bad_chars):\n\u001b[1;32m--> 666\u001b[0m     \u001b[38;5;28;01mraise\u001b[39;00m MlflowException(\n\u001b[0;32m    667\u001b[0m         \u001b[38;5;124mf\u001b[39m\u001b[38;5;124m\"\u001b[39m\u001b[38;5;124mInvalid model name (\u001b[39m\u001b[38;5;132;01m{\u001b[39;00mname\u001b[38;5;132;01m!r}\u001b[39;00m\u001b[38;5;124m) provided. Model name must be a non-empty string \u001b[39m\u001b[38;5;124m\"\u001b[39m\n\u001b[0;32m    668\u001b[0m         \u001b[38;5;124mf\u001b[39m\u001b[38;5;124m\"\u001b[39m\u001b[38;5;124mand cannot contain the following characters: \u001b[39m\u001b[38;5;132;01m{\u001b[39;00mbad_chars\u001b[38;5;132;01m}\u001b[39;00m\u001b[38;5;124m\"\u001b[39m,\n\u001b[0;32m    669\u001b[0m         INVALID_PARAMETER_VALUE,\n\u001b[0;32m    670\u001b[0m     )\n",
      "\u001b[1;31mMlflowException\u001b[0m: Invalid model name ('sklearn_models/LogisticRegression') provided. Model name must be a non-empty string and cannot contain the following characters: ('/', ':', '.', '%', '\"', \"'\")"
     ]
    }
   ],
   "source": [
    "# Example dataset (Iris)\n",
    "data = load_iris()\n",
    "X_train, X_test, y_train, y_test = train_test_split(\n",
    "    data.data, data.target, test_size=0.2, random_state=42, stratify=data.target\n",
    ")\n",
    "\n",
    "# Models to compare\n",
    "models = [\n",
    "    (LogisticRegression(max_iter=500, solver=\"liblinear\"), \"LogisticRegression\"),\n",
    "    (RandomForestClassifier(n_estimators=50, random_state=42, max_depth=2), \"RandomForest\"),\n",
    "    (SVC(kernel=\"rbf\", probability=True, gamma=0.7), \"SVM\"),\n",
    "]\n",
    "\n",
    "for model, name in models:\n",
    "    train_and_log(model, name, X_train, X_test, y_train, y_test)\n",
    "\n",
    "print(\"\\n🎉 All models logged! Check MLflow UI at http://127.0.0.1:5000\")\n"
   ]
  },
  {
   "cell_type": "code",
   "execution_count": 5,
   "id": "2343b2c6",
   "metadata": {},
   "outputs": [
    {
     "name": "stderr",
     "output_type": "stream",
     "text": [
      "2025/09/17 10:36:26 INFO mlflow.tracking.fluent: Experiment with name 'iris-comparison' does not exist. Creating a new experiment.\n"
     ]
    },
    {
     "name": "stdout",
     "output_type": "stream",
     "text": [
      "Training and logging: Logistic Regression\n"
     ]
    },
    {
     "name": "stderr",
     "output_type": "stream",
     "text": [
      "2025/09/17 10:36:27 WARNING mlflow.models.model: `artifact_path` is deprecated. Please use `name` instead.\n",
      "2025/09/17 10:36:33 WARNING mlflow.models.model: Model logged without a signature and input example. Please set `input_example` parameter when logging the model to auto infer the model signature.\n"
     ]
    },
    {
     "name": "stdout",
     "output_type": "stream",
     "text": [
      "🏃 View run Logistic Regression at: http://localhost:5000/#/experiments/814975460984374551/runs/659d0cf78fae496aafc8d66fdd264316\n",
      "🧪 View experiment at: http://localhost:5000/#/experiments/814975460984374551\n",
      "Training and logging: Random Forest\n"
     ]
    },
    {
     "name": "stderr",
     "output_type": "stream",
     "text": [
      "2025/09/17 10:36:37 WARNING mlflow.models.model: `artifact_path` is deprecated. Please use `name` instead.\n",
      "2025/09/17 10:36:42 WARNING mlflow.models.model: Model logged without a signature and input example. Please set `input_example` parameter when logging the model to auto infer the model signature.\n"
     ]
    },
    {
     "name": "stdout",
     "output_type": "stream",
     "text": [
      "🏃 View run Random Forest at: http://localhost:5000/#/experiments/814975460984374551/runs/958f2cf9ae404f65a3c0e75aa58930ae\n",
      "🧪 View experiment at: http://localhost:5000/#/experiments/814975460984374551\n",
      "Training and logging: SVM\n"
     ]
    },
    {
     "name": "stderr",
     "output_type": "stream",
     "text": [
      "2025/09/17 10:36:46 WARNING mlflow.models.model: `artifact_path` is deprecated. Please use `name` instead.\n",
      "2025/09/17 10:36:50 WARNING mlflow.models.model: Model logged without a signature and input example. Please set `input_example` parameter when logging the model to auto infer the model signature.\n"
     ]
    },
    {
     "name": "stdout",
     "output_type": "stream",
     "text": [
      "🏃 View run SVM at: http://localhost:5000/#/experiments/814975460984374551/runs/936df62f0fb54a3086369d02bc819767\n",
      "🧪 View experiment at: http://localhost:5000/#/experiments/814975460984374551\n"
     ]
    }
   ],
   "source": [
    "import mlflow\n",
    "import mlflow.sklearn\n",
    "from sklearn.datasets import load_iris\n",
    "from sklearn.model_selection import train_test_split\n",
    "from sklearn.metrics import accuracy_score, precision_score, recall_score, f1_score, confusion_matrix\n",
    "from sklearn.linear_model import LogisticRegression\n",
    "from sklearn.ensemble import RandomForestClassifier\n",
    "from sklearn.svm import SVC\n",
    "import matplotlib.pyplot as plt\n",
    "import seaborn as sns\n",
    "import os\n",
    "\n",
    "# =====================\n",
    "# Connect to MLflow Server\n",
    "# =====================\n",
    "\n",
    "mlflow.set_tracking_uri(\"http://localhost:5000\")\n",
    "mlflow.set_experiment(\"iris-comparison\")\n",
    "\n",
    "# =====================\n",
    "# Load dataset\n",
    "# =====================\n",
    "iris = load_iris()\n",
    "X_train, X_test, y_train, y_test = train_test_split(\n",
    "    iris.data, iris.target, test_size=0.2, random_state=42\n",
    ")\n",
    "\n",
    "# =====================\n",
    "# Define models\n",
    "# =====================\n",
    "models = {\n",
    "    \"Logistic Regression\": LogisticRegression(max_iter=200, solver=\"lbfgs\", multi_class=\"auto\"),\n",
    "    \"Random Forest\": RandomForestClassifier(n_estimators=100, random_state=42),\n",
    "    \"SVM\": SVC(kernel=\"linear\", probability=True, C=1.0, random_state=42)\n",
    "}\n",
    "\n",
    "# =====================\n",
    "# Directory for plots\n",
    "# =====================\n",
    "results_dir = \"results\"\n",
    "os.makedirs(results_dir, exist_ok=True)\n",
    "\n",
    "# =====================\n",
    "# Train & Log\n",
    "# =====================\n",
    "for model_name, model in models.items():\n",
    "    with mlflow.start_run(run_name=model_name):\n",
    "        print(f\"Training and logging: {model_name}\")\n",
    "        \n",
    "        # Train\n",
    "        model.fit(X_train, y_train)\n",
    "        y_pred = model.predict(X_test)\n",
    "\n",
    "        # Metrics\n",
    "        acc = accuracy_score(y_test, y_pred)\n",
    "        prec = precision_score(y_test, y_pred, average=\"macro\")\n",
    "        rec = recall_score(y_test, y_pred, average=\"macro\")\n",
    "        f1 = f1_score(y_test, y_pred, average=\"macro\")\n",
    "\n",
    "        # Log metrics\n",
    "        mlflow.log_metric(\"accuracy\", acc)\n",
    "        mlflow.log_metric(\"precision\", prec)\n",
    "        mlflow.log_metric(\"recall\", rec)\n",
    "        mlflow.log_metric(\"f1_score\", f1)\n",
    "\n",
    "        # Log parameters\n",
    "        if isinstance(model, LogisticRegression):\n",
    "            mlflow.log_param(\"C\", model.C)\n",
    "            mlflow.log_param(\"solver\", model.solver)\n",
    "        elif isinstance(model, RandomForestClassifier):\n",
    "            mlflow.log_param(\"n_estimators\", model.n_estimators)\n",
    "            mlflow.log_param(\"max_depth\", model.max_depth)\n",
    "        elif isinstance(model, SVC):\n",
    "            mlflow.log_param(\"kernel\", model.kernel)\n",
    "            mlflow.log_param(\"C\", model.C)\n",
    "\n",
    "        # Confusion Matrix\n",
    "        cm = confusion_matrix(y_test, y_pred)\n",
    "        plt.figure(figsize=(6, 4))\n",
    "        sns.heatmap(cm, annot=True, fmt=\"d\", cmap=\"Blues\",\n",
    "                    xticklabels=iris.target_names,\n",
    "                    yticklabels=iris.target_names)\n",
    "        plt.xlabel(\"Predicted\")\n",
    "        plt.ylabel(\"Actual\")\n",
    "        plt.title(f\"Confusion Matrix - {model_name}\")\n",
    "\n",
    "        plot_path = os.path.join(results_dir, f\"{model_name}_confusion_matrix.png\")\n",
    "        plt.savefig(plot_path)\n",
    "        plt.close()\n",
    "\n",
    "        # Log artifact\n",
    "        mlflow.log_artifact(plot_path, artifact_path=\"plots\")\n",
    "\n",
    "        # Log model\n",
    "        mlflow.sklearn.log_model(model, artifact_path=\"model\")\n"
   ]
  },
  {
   "cell_type": "code",
   "execution_count": 6,
   "id": "a74be6f4",
   "metadata": {},
   "outputs": [
    {
     "name": "stdout",
     "output_type": "stream",
     "text": [
      "Training and logging: Logistic Regression\n"
     ]
    },
    {
     "name": "stderr",
     "output_type": "stream",
     "text": [
      "2025/09/17 10:39:45 WARNING mlflow.models.model: `artifact_path` is deprecated. Please use `name` instead.\n",
      "2025/09/17 10:39:52 WARNING mlflow.models.model: Model logged without a signature and input example. Please set `input_example` parameter when logging the model to auto infer the model signature.\n"
     ]
    },
    {
     "name": "stdout",
     "output_type": "stream",
     "text": [
      "🏃 View run Logistic Regression at: http://localhost:5000/#/experiments/814975460984374551/runs/c7e4cd4da5a74c1ca1cda320633ec505\n",
      "🧪 View experiment at: http://localhost:5000/#/experiments/814975460984374551\n",
      "Training and logging: Random Forest\n"
     ]
    },
    {
     "name": "stderr",
     "output_type": "stream",
     "text": [
      "2025/09/17 10:39:55 WARNING mlflow.models.model: `artifact_path` is deprecated. Please use `name` instead.\n",
      "2025/09/17 10:40:02 WARNING mlflow.models.model: Model logged without a signature and input example. Please set `input_example` parameter when logging the model to auto infer the model signature.\n"
     ]
    },
    {
     "name": "stdout",
     "output_type": "stream",
     "text": [
      "🏃 View run Random Forest at: http://localhost:5000/#/experiments/814975460984374551/runs/975f474b501f442d8dda2968fb86a270\n",
      "🧪 View experiment at: http://localhost:5000/#/experiments/814975460984374551\n",
      "Training and logging: SVM\n"
     ]
    },
    {
     "name": "stderr",
     "output_type": "stream",
     "text": [
      "2025/09/17 10:40:05 WARNING mlflow.models.model: `artifact_path` is deprecated. Please use `name` instead.\n",
      "2025/09/17 10:40:16 WARNING mlflow.models.model: Model logged without a signature and input example. Please set `input_example` parameter when logging the model to auto infer the model signature.\n"
     ]
    },
    {
     "name": "stdout",
     "output_type": "stream",
     "text": [
      "🏃 View run SVM at: http://localhost:5000/#/experiments/814975460984374551/runs/ab5e5967dcbd4be5b0e1aab6f1bef908\n",
      "🧪 View experiment at: http://localhost:5000/#/experiments/814975460984374551\n",
      "✅ All models trained, logged, and tracked in MLflow.\n"
     ]
    }
   ],
   "source": [
    "import mlflow\n",
    "import mlflow.sklearn\n",
    "from sklearn.datasets import load_iris\n",
    "from sklearn.model_selection import train_test_split\n",
    "from sklearn.metrics import accuracy_score, precision_score, recall_score, f1_score, confusion_matrix\n",
    "from sklearn.linear_model import LogisticRegression\n",
    "from sklearn.ensemble import RandomForestClassifier\n",
    "from sklearn.svm import SVC\n",
    "import matplotlib.pyplot as plt\n",
    "import seaborn as sns\n",
    "import os\n",
    "\n",
    "# =====================\n",
    "# 1. Setup MLflow\n",
    "# =====================\n",
    "\n",
    "mlflow.set_tracking_uri(\"http://localhost:5000\")\n",
    "mlflow.set_experiment(\"iris-comparison\")\n",
    "\n",
    "# =====================\n",
    "# Load dataset\n",
    "# =====================\n",
    "iris = load_iris()\n",
    "X_train, X_test, y_train, y_test = train_test_split(\n",
    "    iris.data, iris.target, test_size=0.2, random_state=42\n",
    ")\n",
    "\n",
    "# =====================\n",
    "# Define models\n",
    "# =====================\n",
    "models = {\n",
    "    \"Logistic Regression\": LogisticRegression(max_iter=200, solver=\"lbfgs\", multi_class=\"auto\"),\n",
    "    \"Random Forest\": RandomForestClassifier(n_estimators=100, random_state=42),\n",
    "    \"SVM\": SVC(kernel=\"linear\", probability=True, C=1.0, random_state=42)\n",
    "}\n",
    "\n",
    "# Directory for plots\n",
    "results_dir = \"results\"\n",
    "os.makedirs(results_dir, exist_ok=True)\n",
    "\n",
    "# =====================\n",
    "# 2. Train and Log each model\n",
    "# =====================\n",
    "for model_name, model in models.items():\n",
    "    with mlflow.start_run(run_name=model_name):\n",
    "        print(f\"Training and logging: {model_name}\")\n",
    "\n",
    "        # Train model\n",
    "        model.fit(X_train, y_train)\n",
    "        y_pred = model.predict(X_test)\n",
    "\n",
    "        # ---- Log Metrics ----\n",
    "        acc = accuracy_score(y_test, y_pred)\n",
    "        prec = precision_score(y_test, y_pred, average=\"macro\")\n",
    "        rec = recall_score(y_test, y_pred, average=\"macro\")\n",
    "        f1 = f1_score(y_test, y_pred, average=\"macro\")\n",
    "\n",
    "        mlflow.log_metric(\"accuracy\", acc)\n",
    "        mlflow.log_metric(\"precision\", prec)\n",
    "        mlflow.log_metric(\"recall\", rec)\n",
    "        mlflow.log_metric(\"f1_score\", f1)\n",
    "\n",
    "        # ---- Log Parameters ----\n",
    "        if isinstance(model, LogisticRegression):\n",
    "            mlflow.log_param(\"C\", model.C)\n",
    "            mlflow.log_param(\"solver\", model.solver)\n",
    "        elif isinstance(model, RandomForestClassifier):\n",
    "            mlflow.log_param(\"n_estimators\", model.n_estimators)\n",
    "            mlflow.log_param(\"max_depth\", model.max_depth)\n",
    "        elif isinstance(model, SVC):\n",
    "            mlflow.log_param(\"kernel\", model.kernel)\n",
    "            mlflow.log_param(\"C\", model.C)\n",
    "\n",
    "        # ---- Log Artifacts: Confusion Matrix ----\n",
    "        cm = confusion_matrix(y_test, y_pred)\n",
    "        plt.figure(figsize=(6, 4))\n",
    "        sns.heatmap(cm, annot=True, fmt=\"d\", cmap=\"Blues\",\n",
    "                    xticklabels=iris.target_names,\n",
    "                    yticklabels=iris.target_names)\n",
    "        plt.xlabel(\"Predicted\")\n",
    "        plt.ylabel(\"Actual\")\n",
    "        plt.title(f\"Confusion Matrix - {model_name}\")\n",
    "\n",
    "        plot_path = os.path.join(results_dir, f\"{model_name}_confusion_matrix.png\")\n",
    "        plt.savefig(plot_path)\n",
    "        plt.close()\n",
    "\n",
    "        mlflow.log_artifact(plot_path, artifact_path=\"plots\")\n",
    "\n",
    "        # ---- Log Model ----\n",
    "        mlflow.sklearn.log_model(model, artifact_path=\"model\")\n",
    "\n",
    "print(\"✅ All models trained, logged, and tracked in MLflow.\")\n"
   ]
  },
  {
   "cell_type": "code",
   "execution_count": 8,
   "id": "920ab48e",
   "metadata": {},
   "outputs": [
    {
     "name": "stderr",
     "output_type": "stream",
     "text": [
      "2025/09/17 12:07:27 INFO mlflow.tracking.fluent: Experiment with name 'iris-comparison-cv' does not exist. Creating a new experiment.\n"
     ]
    },
    {
     "name": "stdout",
     "output_type": "stream",
     "text": [
      "🚀 Training and logging with CV: Logistic Regression\n"
     ]
    },
    {
     "name": "stderr",
     "output_type": "stream",
     "text": [
      "2025/09/17 12:07:27 WARNING mlflow.models.model: `artifact_path` is deprecated. Please use `name` instead.\n",
      "2025/09/17 12:07:33 WARNING mlflow.models.model: Model logged without a signature and input example. Please set `input_example` parameter when logging the model to auto infer the model signature.\n"
     ]
    },
    {
     "name": "stdout",
     "output_type": "stream",
     "text": [
      "🏃 View run Logistic Regression at: http://localhost:5000/#/experiments/878783076185509268/runs/59aea345d1854b2dac0ce6eec4348f8a\n",
      "🧪 View experiment at: http://localhost:5000/#/experiments/878783076185509268\n",
      "🚀 Training and logging with CV: Random Forest\n"
     ]
    },
    {
     "name": "stderr",
     "output_type": "stream",
     "text": [
      "2025/09/17 12:07:36 WARNING mlflow.models.model: `artifact_path` is deprecated. Please use `name` instead.\n",
      "2025/09/17 12:07:42 WARNING mlflow.models.model: Model logged without a signature and input example. Please set `input_example` parameter when logging the model to auto infer the model signature.\n"
     ]
    },
    {
     "name": "stdout",
     "output_type": "stream",
     "text": [
      "🏃 View run Random Forest at: http://localhost:5000/#/experiments/878783076185509268/runs/f0986ceb0a96471e89366270a53d15ca\n",
      "🧪 View experiment at: http://localhost:5000/#/experiments/878783076185509268\n",
      "🚀 Training and logging with CV: SVM\n"
     ]
    },
    {
     "name": "stderr",
     "output_type": "stream",
     "text": [
      "2025/09/17 12:07:45 WARNING mlflow.models.model: `artifact_path` is deprecated. Please use `name` instead.\n",
      "2025/09/17 12:07:52 WARNING mlflow.models.model: Model logged without a signature and input example. Please set `input_example` parameter when logging the model to auto infer the model signature.\n"
     ]
    },
    {
     "name": "stdout",
     "output_type": "stream",
     "text": [
      "🏃 View run SVM at: http://localhost:5000/#/experiments/878783076185509268/runs/f89d4db6b153474f86bdc042e1bbbb28\n",
      "🧪 View experiment at: http://localhost:5000/#/experiments/878783076185509268\n",
      "\n",
      "🎯 All models trained with CV, logged, and tracked in MLflow.\n"
     ]
    }
   ],
   "source": [
    "import mlflow\n",
    "import mlflow.sklearn\n",
    "from sklearn.datasets import load_iris\n",
    "from sklearn.model_selection import StratifiedKFold, cross_val_predict\n",
    "from sklearn.metrics import accuracy_score, precision_score, recall_score, f1_score, confusion_matrix\n",
    "from sklearn.linear_model import LogisticRegression\n",
    "from sklearn.ensemble import RandomForestClassifier\n",
    "from sklearn.svm import SVC\n",
    "import matplotlib.pyplot as plt\n",
    "import seaborn as sns\n",
    "import os\n",
    "import numpy as np\n",
    "\n",
    "# =====================\n",
    "# Setup MLflow\n",
    "# =====================\n",
    "mlflow.set_tracking_uri(\"http://localhost:5000\")\n",
    "mlflow.set_experiment(\"iris-comparison-cv\")\n",
    "\n",
    "# =====================\n",
    "# Load dataset\n",
    "# =====================\n",
    "iris = load_iris()\n",
    "X, y = iris.data, iris.target\n",
    "\n",
    "# Stratified K-Fold for fairer evaluation\n",
    "cv = StratifiedKFold(n_splits=5, shuffle=True, random_state=42)\n",
    "\n",
    "# =====================\n",
    "# Define models\n",
    "# =====================\n",
    "models = {\n",
    "    \"Logistic Regression\": LogisticRegression(max_iter=200, solver=\"lbfgs\", multi_class=\"auto\"),\n",
    "    \"Random Forest\": RandomForestClassifier(n_estimators=50, max_depth=3, random_state=42),\n",
    "    \"SVM\": SVC(kernel=\"linear\", probability=True, C=0.5, random_state=42)\n",
    "}\n",
    "\n",
    "# Directory for plots\n",
    "results_dir = \"results\"\n",
    "os.makedirs(results_dir, exist_ok=True)\n",
    "\n",
    "# =====================\n",
    "# Train and Log each model with CV\n",
    "# =====================\n",
    "for model_name, model in models.items():\n",
    "    with mlflow.start_run(run_name=model_name):\n",
    "        print(f\"🚀 Training and logging with CV: {model_name}\")\n",
    "\n",
    "        # Cross-validation predictions\n",
    "        y_pred = cross_val_predict(model, X, y, cv=cv)\n",
    "\n",
    "        # ---- Metrics ----\n",
    "        acc = accuracy_score(y, y_pred)\n",
    "        prec = precision_score(y, y_pred, average=\"macro\")\n",
    "        rec = recall_score(y, y_pred, average=\"macro\")\n",
    "        f1 = f1_score(y, y_pred, average=\"macro\")\n",
    "\n",
    "        mlflow.log_metric(\"accuracy\", acc)\n",
    "        mlflow.log_metric(\"precision\", prec)\n",
    "        mlflow.log_metric(\"recall\", rec)\n",
    "        mlflow.log_metric(\"f1_score\", f1)\n",
    "\n",
    "        # ---- Parameters ----\n",
    "        if isinstance(model, LogisticRegression):\n",
    "            mlflow.log_param(\"C\", model.C)\n",
    "            mlflow.log_param(\"solver\", model.solver)\n",
    "        elif isinstance(model, RandomForestClassifier):\n",
    "            mlflow.log_param(\"n_estimators\", model.n_estimators)\n",
    "            mlflow.log_param(\"max_depth\", model.max_depth)\n",
    "        elif isinstance(model, SVC):\n",
    "            mlflow.log_param(\"kernel\", model.kernel)\n",
    "            mlflow.log_param(\"C\", model.C)\n",
    "\n",
    "        # ---- Confusion Matrix ----\n",
    "        cm = confusion_matrix(y, y_pred)\n",
    "        plt.figure(figsize=(6, 4))\n",
    "        sns.heatmap(cm, annot=True, fmt=\"d\", cmap=\"Blues\",\n",
    "                    xticklabels=iris.target_names,\n",
    "                    yticklabels=iris.target_names)\n",
    "        plt.xlabel(\"Predicted\")\n",
    "        plt.ylabel(\"Actual\")\n",
    "        plt.title(f\"Confusion Matrix - {model_name} (CV)\")\n",
    "\n",
    "        plot_path = os.path.join(results_dir, f\"{model_name}_confusion_matrix.png\")\n",
    "        plt.savefig(plot_path)\n",
    "        plt.close()\n",
    "\n",
    "        mlflow.log_artifact(plot_path, artifact_path=\"plots\")\n",
    "\n",
    "        # ---- Log Model ----\n",
    "        mlflow.sklearn.log_model(model, artifact_path=\"model\")\n",
    "\n",
    "print(\"\\n🎯 All models trained with CV, logged, and tracked in MLflow.\")\n"
   ]
  },
  {
   "cell_type": "code",
   "execution_count": 9,
   "id": "48319640",
   "metadata": {},
   "outputs": [
    {
     "name": "stderr",
     "output_type": "stream",
     "text": [
      "2025/09/17 12:09:43 INFO mlflow.tracking.fluent: Experiment with name 'iris-comparison-different' does not exist. Creating a new experiment.\n"
     ]
    },
    {
     "name": "stdout",
     "output_type": "stream",
     "text": [
      "🚀 Training and logging: Logistic Regression\n",
      "Logistic Regression - Accuracy: 0.774, Precision: 0.823, Recall: 0.777, F1: 0.755\n"
     ]
    },
    {
     "name": "stderr",
     "output_type": "stream",
     "text": [
      "2025/09/17 12:09:44 WARNING mlflow.models.model: `artifact_path` is deprecated. Please use `name` instead.\n",
      "2025/09/17 12:09:51 WARNING mlflow.models.model: Model logged without a signature and input example. Please set `input_example` parameter when logging the model to auto infer the model signature.\n"
     ]
    },
    {
     "name": "stdout",
     "output_type": "stream",
     "text": [
      "🏃 View run Logistic Regression at: http://localhost:5000/#/experiments/839992748732633827/runs/5c82a53f91e2468abbe74d1d56b3ffe7\n",
      "🧪 View experiment at: http://localhost:5000/#/experiments/839992748732633827\n",
      "🚀 Training and logging: Random Forest\n",
      "Random Forest - Accuracy: 0.849, Precision: 0.847, Recall: 0.847, F1: 0.847\n"
     ]
    },
    {
     "name": "stderr",
     "output_type": "stream",
     "text": [
      "2025/09/17 12:09:53 WARNING mlflow.models.model: `artifact_path` is deprecated. Please use `name` instead.\n",
      "2025/09/17 12:09:59 WARNING mlflow.models.model: Model logged without a signature and input example. Please set `input_example` parameter when logging the model to auto infer the model signature.\n"
     ]
    },
    {
     "name": "stdout",
     "output_type": "stream",
     "text": [
      "🏃 View run Random Forest at: http://localhost:5000/#/experiments/839992748732633827/runs/602657dd26e84439a74f620f8ab83648\n",
      "🧪 View experiment at: http://localhost:5000/#/experiments/839992748732633827\n",
      "🚀 Training and logging: SVM\n",
      "SVM - Accuracy: 0.906, Precision: 0.905, Recall: 0.905, F1: 0.905\n"
     ]
    },
    {
     "name": "stderr",
     "output_type": "stream",
     "text": [
      "2025/09/17 12:10:02 WARNING mlflow.models.model: `artifact_path` is deprecated. Please use `name` instead.\n",
      "2025/09/17 12:10:06 WARNING mlflow.models.model: Model logged without a signature and input example. Please set `input_example` parameter when logging the model to auto infer the model signature.\n"
     ]
    },
    {
     "name": "stdout",
     "output_type": "stream",
     "text": [
      "🏃 View run SVM at: http://localhost:5000/#/experiments/839992748732633827/runs/563807c6e471486ea7305d9859b05a5c\n",
      "🧪 View experiment at: http://localhost:5000/#/experiments/839992748732633827\n",
      "\n",
      "🎯 All models trained and logged in MLflow with DIFFERENT accuracies.\n"
     ]
    }
   ],
   "source": [
    "import mlflow\n",
    "import mlflow.sklearn\n",
    "from sklearn.datasets import load_iris\n",
    "from sklearn.model_selection import train_test_split\n",
    "from sklearn.metrics import accuracy_score, precision_score, recall_score, f1_score, confusion_matrix\n",
    "from sklearn.linear_model import LogisticRegression\n",
    "from sklearn.ensemble import RandomForestClassifier\n",
    "from sklearn.svm import SVC\n",
    "import matplotlib.pyplot as plt\n",
    "import seaborn as sns\n",
    "import os\n",
    "import numpy as np\n",
    "\n",
    "# =====================\n",
    "# Setup MLflow\n",
    "# =====================\n",
    "mlflow.set_tracking_uri(\"http://localhost:5000\")\n",
    "mlflow.set_experiment(\"iris-comparison-different\")\n",
    "\n",
    "# =====================\n",
    "# Load dataset (with noise to make task harder)\n",
    "# =====================\n",
    "iris = load_iris()\n",
    "X, y = iris.data, iris.target\n",
    "\n",
    "# Add small Gaussian noise (forces differences)\n",
    "rng = np.random.RandomState(42)\n",
    "X_noisy = X + rng.normal(0, 0.3, X.shape)\n",
    "\n",
    "# Smaller training set for more variability\n",
    "X_train, X_test, y_train, y_test = train_test_split(\n",
    "    X_noisy, y, test_size=0.35, random_state=7, stratify=y\n",
    ")\n",
    "\n",
    "# =====================\n",
    "# Define models with different capacities\n",
    "# =====================\n",
    "models = {\n",
    "    \"Logistic Regression\": LogisticRegression(max_iter=100, solver=\"liblinear\", C=0.2),  # underfit\n",
    "    \"Random Forest\": RandomForestClassifier(n_estimators=20, max_depth=2, random_state=42),  # limited depth\n",
    "    \"SVM\": SVC(kernel=\"rbf\", probability=True, C=1.5, gamma=0.5, random_state=42)  # more complex\n",
    "}\n",
    "\n",
    "# Directory for plots\n",
    "results_dir = \"results\"\n",
    "os.makedirs(results_dir, exist_ok=True)\n",
    "\n",
    "# =====================\n",
    "# Train and Log each model\n",
    "# =====================\n",
    "for model_name, model in models.items():\n",
    "    with mlflow.start_run(run_name=model_name):\n",
    "        print(f\"🚀 Training and logging: {model_name}\")\n",
    "\n",
    "        # Train model\n",
    "        model.fit(X_train, y_train)\n",
    "        y_pred = model.predict(X_test)\n",
    "\n",
    "        # ---- Metrics ----\n",
    "        acc = accuracy_score(y_test, y_pred)\n",
    "        prec = precision_score(y_test, y_pred, average=\"macro\")\n",
    "        rec = recall_score(y_test, y_pred, average=\"macro\")\n",
    "        f1 = f1_score(y_test, y_pred, average=\"macro\")\n",
    "\n",
    "        print(f\"{model_name} - Accuracy: {acc:.3f}, Precision: {prec:.3f}, Recall: {rec:.3f}, F1: {f1:.3f}\")\n",
    "\n",
    "        mlflow.log_metric(\"accuracy\", acc)\n",
    "        mlflow.log_metric(\"precision\", prec)\n",
    "        mlflow.log_metric(\"recall\", rec)\n",
    "        mlflow.log_metric(\"f1_score\", f1)\n",
    "\n",
    "        # ---- Parameters ----\n",
    "        if isinstance(model, LogisticRegression):\n",
    "            mlflow.log_param(\"C\", model.C)\n",
    "            mlflow.log_param(\"solver\", model.solver)\n",
    "        elif isinstance(model, RandomForestClassifier):\n",
    "            mlflow.log_param(\"n_estimators\", model.n_estimators)\n",
    "            mlflow.log_param(\"max_depth\", model.max_depth)\n",
    "        elif isinstance(model, SVC):\n",
    "            mlflow.log_param(\"kernel\", model.kernel)\n",
    "            mlflow.log_param(\"C\", model.C)\n",
    "            mlflow.log_param(\"gamma\", model.gamma)\n",
    "\n",
    "        # ---- Confusion Matrix ----\n",
    "        cm = confusion_matrix(y_test, y_pred)\n",
    "        plt.figure(figsize=(6, 4))\n",
    "        sns.heatmap(cm, annot=True, fmt=\"d\", cmap=\"Blues\",\n",
    "                    xticklabels=iris.target_names,\n",
    "                    yticklabels=iris.target_names)\n",
    "        plt.xlabel(\"Predicted\")\n",
    "        plt.ylabel(\"Actual\")\n",
    "        plt.title(f\"Confusion Matrix - {model_name}\")\n",
    "\n",
    "        plot_path = os.path.join(results_dir, f\"{model_name}_confusion_matrix.png\")\n",
    "        plt.savefig(plot_path)\n",
    "        plt.close()\n",
    "\n",
    "        mlflow.log_artifact(plot_path, artifact_path=\"plots\")\n",
    "\n",
    "        # ---- Log Model ----\n",
    "        mlflow.sklearn.log_model(model, artifact_path=\"model\")\n",
    "\n",
    "print(\"\\n🎯 All models trained and logged in MLflow with DIFFERENT accuracies.\")\n"
   ]
  },
  {
   "cell_type": "code",
   "execution_count": 10,
   "id": "8eabad56",
   "metadata": {},
   "outputs": [
    {
     "name": "stdout",
     "output_type": "stream",
     "text": [
      "\n",
      "🚀 Training and logging: Logistic Regression\n",
      "Logistic Regression - Accuracy: 0.774, Precision: 0.823, Recall: 0.777, F1: 0.755\n"
     ]
    },
    {
     "name": "stderr",
     "output_type": "stream",
     "text": [
      "2025/09/17 12:10:47 WARNING mlflow.models.model: `artifact_path` is deprecated. Please use `name` instead.\n",
      "2025/09/17 12:10:51 WARNING mlflow.models.model: Model logged without a signature and input example. Please set `input_example` parameter when logging the model to auto infer the model signature.\n"
     ]
    },
    {
     "name": "stdout",
     "output_type": "stream",
     "text": [
      "🏃 View run Logistic Regression at: http://localhost:5000/#/experiments/839992748732633827/runs/144d7176db5b4adeb57b6194b32deec9\n",
      "🧪 View experiment at: http://localhost:5000/#/experiments/839992748732633827\n",
      "\n",
      "🚀 Training and logging: Random Forest\n",
      "Random Forest - Accuracy: 0.849, Precision: 0.847, Recall: 0.847, F1: 0.847\n"
     ]
    },
    {
     "name": "stderr",
     "output_type": "stream",
     "text": [
      "2025/09/17 12:10:52 WARNING mlflow.models.model: `artifact_path` is deprecated. Please use `name` instead.\n",
      "2025/09/17 12:10:57 WARNING mlflow.models.model: Model logged without a signature and input example. Please set `input_example` parameter when logging the model to auto infer the model signature.\n"
     ]
    },
    {
     "name": "stdout",
     "output_type": "stream",
     "text": [
      "🏃 View run Random Forest at: http://localhost:5000/#/experiments/839992748732633827/runs/e1becf6865724630a85cf23d152625f9\n",
      "🧪 View experiment at: http://localhost:5000/#/experiments/839992748732633827\n",
      "\n",
      "🚀 Training and logging: SVM\n",
      "SVM - Accuracy: 0.906, Precision: 0.905, Recall: 0.905, F1: 0.905\n"
     ]
    },
    {
     "name": "stderr",
     "output_type": "stream",
     "text": [
      "2025/09/17 12:11:06 WARNING mlflow.models.model: `artifact_path` is deprecated. Please use `name` instead.\n",
      "2025/09/17 12:11:16 WARNING mlflow.models.model: Model logged without a signature and input example. Please set `input_example` parameter when logging the model to auto infer the model signature.\n"
     ]
    },
    {
     "name": "stdout",
     "output_type": "stream",
     "text": [
      "🏃 View run SVM at: http://localhost:5000/#/experiments/839992748732633827/runs/8cf928fb0bc64eee9806954be8db4cb8\n",
      "🧪 View experiment at: http://localhost:5000/#/experiments/839992748732633827\n",
      "\n",
      "🎯 All 3 models trained and logged in MLflow with DIFFERENT accuracies.\n"
     ]
    }
   ],
   "source": [
    "import mlflow\n",
    "import mlflow.sklearn\n",
    "from sklearn.datasets import load_iris\n",
    "from sklearn.model_selection import train_test_split\n",
    "from sklearn.metrics import accuracy_score, precision_score, recall_score, f1_score, confusion_matrix\n",
    "from sklearn.linear_model import LogisticRegression\n",
    "from sklearn.ensemble import RandomForestClassifier\n",
    "from sklearn.svm import SVC\n",
    "import matplotlib.pyplot as plt\n",
    "import seaborn as sns\n",
    "import os\n",
    "import numpy as np\n",
    "\n",
    "# =====================\n",
    "# Setup MLflow\n",
    "# =====================\n",
    "mlflow.set_tracking_uri(\"http://localhost:5000\")\n",
    "mlflow.set_experiment(\"iris-comparison-different\")\n",
    "\n",
    "# =====================\n",
    "# Load dataset (with noise to make task harder)\n",
    "# =====================\n",
    "iris = load_iris()\n",
    "X, y = iris.data, iris.target\n",
    "\n",
    "# Add Gaussian noise so models behave differently\n",
    "rng = np.random.RandomState(42)\n",
    "X_noisy = X + rng.normal(0, 0.3, X.shape)\n",
    "\n",
    "# Smaller training set = harder problem\n",
    "X_train, X_test, y_train, y_test = train_test_split(\n",
    "    X_noisy, y, test_size=0.35, random_state=7, stratify=y\n",
    ")\n",
    "\n",
    "# =====================\n",
    "# Define models\n",
    "# =====================\n",
    "models = {\n",
    "    \"Logistic Regression\": LogisticRegression(max_iter=100, solver=\"liblinear\", C=0.2),  # underfit\n",
    "    \"Random Forest\": RandomForestClassifier(n_estimators=20, max_depth=2, random_state=42),  # limited depth\n",
    "    \"SVM\": SVC(kernel=\"rbf\", probability=True, C=1.5, gamma=0.5, random_state=42)  # more complex\n",
    "}\n",
    "\n",
    "# Directory for results\n",
    "results_dir = \"results\"\n",
    "os.makedirs(results_dir, exist_ok=True)\n",
    "\n",
    "# =====================\n",
    "# Train & Log models\n",
    "# =====================\n",
    "for model_name, model in models.items():\n",
    "    with mlflow.start_run(run_name=model_name):\n",
    "        print(f\"\\n🚀 Training and logging: {model_name}\")\n",
    "\n",
    "        # Train\n",
    "        model.fit(X_train, y_train)\n",
    "        y_pred = model.predict(X_test)\n",
    "\n",
    "        # ---- Metrics ----\n",
    "        acc = accuracy_score(y_test, y_pred)\n",
    "        prec = precision_score(y_test, y_pred, average=\"macro\")\n",
    "        rec = recall_score(y_test, y_pred, average=\"macro\")\n",
    "        f1 = f1_score(y_test, y_pred, average=\"macro\")\n",
    "\n",
    "        print(f\"{model_name} - Accuracy: {acc:.3f}, Precision: {prec:.3f}, Recall: {rec:.3f}, F1: {f1:.3f}\")\n",
    "\n",
    "        mlflow.log_metric(\"accuracy\", acc)\n",
    "        mlflow.log_metric(\"precision\", prec)\n",
    "        mlflow.log_metric(\"recall\", rec)\n",
    "        mlflow.log_metric(\"f1_score\", f1)\n",
    "\n",
    "        # ---- Parameters ----\n",
    "        if isinstance(model, LogisticRegression):\n",
    "            mlflow.log_param(\"C\", model.C)\n",
    "            mlflow.log_param(\"solver\", model.solver)\n",
    "        elif isinstance(model, RandomForestClassifier):\n",
    "            mlflow.log_param(\"n_estimators\", model.n_estimators)\n",
    "            mlflow.log_param(\"max_depth\", model.max_depth)\n",
    "        elif isinstance(model, SVC):\n",
    "            mlflow.log_param(\"kernel\", model.kernel)\n",
    "            mlflow.log_param(\"C\", model.C)\n",
    "            mlflow.log_param(\"gamma\", model.gamma)\n",
    "\n",
    "        # ---- Confusion Matrix ----\n",
    "        cm = confusion_matrix(y_test, y_pred)\n",
    "        plt.figure(figsize=(6, 4))\n",
    "        sns.heatmap(cm, annot=True, fmt=\"d\", cmap=\"Blues\",\n",
    "                    xticklabels=iris.target_names,\n",
    "                    yticklabels=iris.target_names)\n",
    "        plt.xlabel(\"Predicted\")\n",
    "        plt.ylabel(\"Actual\")\n",
    "        plt.title(f\"Confusion Matrix - {model_name}\")\n",
    "\n",
    "        plot_path = os.path.join(results_dir, f\"{model_name}_confusion_matrix.png\")\n",
    "        plt.savefig(plot_path)\n",
    "        plt.close()\n",
    "\n",
    "        mlflow.log_artifact(plot_path, artifact_path=\"plots\")\n",
    "\n",
    "        # ---- Log Model ----\n",
    "        mlflow.sklearn.log_model(model, artifact_path=\"model\")\n",
    "\n",
    "print(\"\\n🎯 All 3 models trained and logged in MLflow with DIFFERENT accuracies.\")\n"
   ]
  },
  {
   "cell_type": "code",
   "execution_count": 11,
   "id": "09e0a253",
   "metadata": {},
   "outputs": [
    {
     "name": "stdout",
     "output_type": "stream",
     "text": [
      "\n",
      "🚀 Training and logging: Logistic Regression\n",
      "Logistic Regression - Accuracy: 0.774, Precision: 0.823, Recall: 0.777, F1: 0.755\n"
     ]
    },
    {
     "name": "stderr",
     "output_type": "stream",
     "text": [
      "2025/09/17 12:14:49 WARNING mlflow.models.model: `artifact_path` is deprecated. Please use `name` instead.\n",
      "2025/09/17 12:14:59 WARNING mlflow.models.model: Model logged without a signature and input example. Please set `input_example` parameter when logging the model to auto infer the model signature.\n"
     ]
    },
    {
     "name": "stdout",
     "output_type": "stream",
     "text": [
      "🏃 View run Logistic Regression at: http://localhost:5000/#/experiments/839992748732633827/runs/a596c922705b48e5bfb222a1f011b260\n",
      "🧪 View experiment at: http://localhost:5000/#/experiments/839992748732633827\n",
      "\n",
      "🚀 Training and logging: Random Forest\n",
      "Random Forest - Accuracy: 0.849, Precision: 0.847, Recall: 0.847, F1: 0.847\n"
     ]
    },
    {
     "name": "stderr",
     "output_type": "stream",
     "text": [
      "2025/09/17 12:15:02 WARNING mlflow.models.model: `artifact_path` is deprecated. Please use `name` instead.\n",
      "2025/09/17 12:15:06 WARNING mlflow.models.model: Model logged without a signature and input example. Please set `input_example` parameter when logging the model to auto infer the model signature.\n"
     ]
    },
    {
     "name": "stdout",
     "output_type": "stream",
     "text": [
      "🏃 View run Random Forest at: http://localhost:5000/#/experiments/839992748732633827/runs/98859bcade9b4478a3d16783e277edc1\n",
      "🧪 View experiment at: http://localhost:5000/#/experiments/839992748732633827\n",
      "\n",
      "🚀 Training and logging: SVM\n",
      "SVM - Accuracy: 0.906, Precision: 0.905, Recall: 0.905, F1: 0.905\n"
     ]
    },
    {
     "name": "stderr",
     "output_type": "stream",
     "text": [
      "2025/09/17 12:15:07 WARNING mlflow.models.model: `artifact_path` is deprecated. Please use `name` instead.\n",
      "2025/09/17 12:15:11 WARNING mlflow.models.model: Model logged without a signature and input example. Please set `input_example` parameter when logging the model to auto infer the model signature.\n",
      "Registered model 'IrisBestModel' already exists. Creating a new version of this model...\n",
      "2025/09/17 12:15:12 WARNING mlflow.tracking._model_registry.fluent: Run with id a3f44d0673124eb2af83b3a866db24dd has no artifacts at artifact path 'model', registering model based on models:/m-f589262812a54ce58d16684046a4ec50 instead\n"
     ]
    },
    {
     "name": "stdout",
     "output_type": "stream",
     "text": [
      "🏃 View run SVM at: http://localhost:5000/#/experiments/839992748732633827/runs/a3f44d0673124eb2af83b3a866db24dd\n",
      "🧪 View experiment at: http://localhost:5000/#/experiments/839992748732633827\n",
      "\n",
      "🎯 All models trained and logged in MLflow.\n",
      "\n",
      "🏆 Best Model: SVM (Accuracy=0.906)\n"
     ]
    },
    {
     "name": "stderr",
     "output_type": "stream",
     "text": [
      "2025/09/17 12:15:12 INFO mlflow.store.model_registry.abstract_store: Waiting up to 300 seconds for model version to finish creation. Model name: IrisBestModel, version 2\n",
      "Created version '2' of model 'IrisBestModel'.\n"
     ]
    },
    {
     "name": "stdout",
     "output_type": "stream",
     "text": [
      "\n",
      "✅ Best model registered in MLflow Model Registry as 'IrisBestModel'\n"
     ]
    }
   ],
   "source": [
    "import mlflow\n",
    "import mlflow.sklearn\n",
    "from sklearn.datasets import load_iris\n",
    "from sklearn.model_selection import train_test_split\n",
    "from sklearn.metrics import accuracy_score, precision_score, recall_score, f1_score, confusion_matrix\n",
    "from sklearn.linear_model import LogisticRegression\n",
    "from sklearn.ensemble import RandomForestClassifier\n",
    "from sklearn.svm import SVC\n",
    "import matplotlib.pyplot as plt\n",
    "import seaborn as sns\n",
    "import os\n",
    "import numpy as np\n",
    "\n",
    "# =====================\n",
    "# Setup MLflow\n",
    "# =====================\n",
    "mlflow.set_tracking_uri(\"http://localhost:5000\")\n",
    "mlflow.set_experiment(\"iris-comparison-different\")\n",
    "\n",
    "# =====================\n",
    "# Load dataset (with noise to make task harder)\n",
    "# =====================\n",
    "iris = load_iris()\n",
    "X, y = iris.data, iris.target\n",
    "\n",
    "# Add Gaussian noise so models behave differently\n",
    "rng = np.random.RandomState(42)\n",
    "X_noisy = X + rng.normal(0, 0.3, X.shape)\n",
    "\n",
    "# Smaller training set = harder problem\n",
    "X_train, X_test, y_train, y_test = train_test_split(\n",
    "    X_noisy, y, test_size=0.35, random_state=7, stratify=y\n",
    ")\n",
    "\n",
    "# =====================\n",
    "# Define models\n",
    "# =====================\n",
    "models = {\n",
    "    \"Logistic Regression\": LogisticRegression(max_iter=100, solver=\"liblinear\", C=0.2),\n",
    "    \"Random Forest\": RandomForestClassifier(n_estimators=20, max_depth=2, random_state=42),\n",
    "    \"SVM\": SVC(kernel=\"rbf\", probability=True, C=1.5, gamma=0.5, random_state=42)\n",
    "}\n",
    "\n",
    "# Directory for results\n",
    "results_dir = \"results\"\n",
    "os.makedirs(results_dir, exist_ok=True)\n",
    "\n",
    "# Store results for comparison\n",
    "results = []\n",
    "\n",
    "# =====================\n",
    "# Train & Log models\n",
    "# =====================\n",
    "for model_name, model in models.items():\n",
    "    with mlflow.start_run(run_name=model_name) as run:\n",
    "        print(f\"\\n🚀 Training and logging: {model_name}\")\n",
    "\n",
    "        # Train\n",
    "        model.fit(X_train, y_train)\n",
    "        y_pred = model.predict(X_test)\n",
    "\n",
    "        # ---- Metrics ----\n",
    "        acc = accuracy_score(y_test, y_pred)\n",
    "        prec = precision_score(y_test, y_pred, average=\"macro\")\n",
    "        rec = recall_score(y_test, y_pred, average=\"macro\")\n",
    "        f1 = f1_score(y_test, y_pred, average=\"macro\")\n",
    "\n",
    "        print(f\"{model_name} - Accuracy: {acc:.3f}, Precision: {prec:.3f}, Recall: {rec:.3f}, F1: {f1:.3f}\")\n",
    "\n",
    "        mlflow.log_metric(\"accuracy\", acc)\n",
    "        mlflow.log_metric(\"precision\", prec)\n",
    "        mlflow.log_metric(\"recall\", rec)\n",
    "        mlflow.log_metric(\"f1_score\", f1)\n",
    "\n",
    "        # ---- Parameters ----\n",
    "        if isinstance(model, LogisticRegression):\n",
    "            mlflow.log_param(\"C\", model.C)\n",
    "            mlflow.log_param(\"solver\", model.solver)\n",
    "        elif isinstance(model, RandomForestClassifier):\n",
    "            mlflow.log_param(\"n_estimators\", model.n_estimators)\n",
    "            mlflow.log_param(\"max_depth\", model.max_depth)\n",
    "        elif isinstance(model, SVC):\n",
    "            mlflow.log_param(\"kernel\", model.kernel)\n",
    "            mlflow.log_param(\"C\", model.C)\n",
    "            mlflow.log_param(\"gamma\", model.gamma)\n",
    "\n",
    "        # ---- Confusion Matrix ----\n",
    "        cm = confusion_matrix(y_test, y_pred)\n",
    "        plt.figure(figsize=(6, 4))\n",
    "        sns.heatmap(cm, annot=True, fmt=\"d\", cmap=\"Blues\",\n",
    "                    xticklabels=iris.target_names,\n",
    "                    yticklabels=iris.target_names)\n",
    "        plt.xlabel(\"Predicted\")\n",
    "        plt.ylabel(\"Actual\")\n",
    "        plt.title(f\"Confusion Matrix - {model_name}\")\n",
    "\n",
    "        plot_path = os.path.join(results_dir, f\"{model_name}_confusion_matrix.png\")\n",
    "        plt.savefig(plot_path)\n",
    "        plt.close()\n",
    "\n",
    "        mlflow.log_artifact(plot_path, artifact_path=\"plots\")\n",
    "\n",
    "        # ---- Log Model ----\n",
    "        mlflow.sklearn.log_model(model, artifact_path=\"model\")\n",
    "\n",
    "        # Save results for comparison\n",
    "        results.append({\n",
    "            \"model_name\": model_name,\n",
    "            \"run_id\": run.info.run_id,\n",
    "            \"accuracy\": acc,\n",
    "            \"model\": model\n",
    "        })\n",
    "\n",
    "print(\"\\n🎯 All models trained and logged in MLflow.\")\n",
    "\n",
    "# =====================\n",
    "# Select Best Model & Register\n",
    "# =====================\n",
    "best_model = max(results, key=lambda x: x[\"accuracy\"])\n",
    "print(f\"\\n🏆 Best Model: {best_model['model_name']} (Accuracy={best_model['accuracy']:.3f})\")\n",
    "\n",
    "# Register in MLflow Model Registry\n",
    "model_uri = f\"runs:/{best_model['run_id']}/model\"\n",
    "mlflow.register_model(model_uri, \"IrisBestModel\")\n",
    "\n",
    "print(\"\\n✅ Best model registered in MLflow Model Registry as 'IrisBestModel'\")\n"
   ]
  },
  {
   "cell_type": "code",
   "execution_count": null,
   "id": "86f8d2be",
   "metadata": {},
   "outputs": [],
   "source": []
  }
 ],
 "metadata": {
  "kernelspec": {
   "display_name": "Python 3 (ipykernel)",
   "language": "python",
   "name": "python3"
  },
  "language_info": {
   "codemirror_mode": {
    "name": "ipython",
    "version": 3
   },
   "file_extension": ".py",
   "mimetype": "text/x-python",
   "name": "python",
   "nbconvert_exporter": "python",
   "pygments_lexer": "ipython3",
   "version": "3.11.5"
  }
 },
 "nbformat": 4,
 "nbformat_minor": 5
}
