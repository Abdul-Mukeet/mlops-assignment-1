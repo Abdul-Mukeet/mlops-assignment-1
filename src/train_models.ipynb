{
 "cells": [
  {
   "cell_type": "code",
   "execution_count": 2,
   "id": "de84b7cb",
   "metadata": {},
   "outputs": [
    {
     "name": "stdout",
     "output_type": "stream",
     "text": [
      "\n",
      " Training and logging: Logistic Regression\n",
      "Logistic Regression - Accuracy: 0.774, Precision: 0.823, Recall: 0.777, F1: 0.755\n"
     ]
    },
    {
     "name": "stderr",
     "output_type": "stream",
     "text": [
      "2025/09/18 10:56:05 WARNING mlflow.models.model: `artifact_path` is deprecated. Please use `name` instead.\n",
      "2025/09/18 10:56:13 WARNING mlflow.models.model: Model logged without a signature and input example. Please set `input_example` parameter when logging the model to auto infer the model signature.\n"
     ]
    },
    {
     "name": "stdout",
     "output_type": "stream",
     "text": [
      "🏃 View run Logistic Regression at: http://localhost:5000/#/experiments/676235388605344173/runs/e9c7c16ba76a4b5391cffe3f263fe2c7\n",
      "🧪 View experiment at: http://localhost:5000/#/experiments/676235388605344173\n",
      "\n",
      " Training and logging: Random Forest\n",
      "Random Forest - Accuracy: 0.849, Precision: 0.847, Recall: 0.847, F1: 0.847\n"
     ]
    },
    {
     "name": "stderr",
     "output_type": "stream",
     "text": [
      "2025/09/18 10:56:18 WARNING mlflow.models.model: `artifact_path` is deprecated. Please use `name` instead.\n",
      "2025/09/18 10:56:23 WARNING mlflow.models.model: Model logged without a signature and input example. Please set `input_example` parameter when logging the model to auto infer the model signature.\n"
     ]
    },
    {
     "name": "stdout",
     "output_type": "stream",
     "text": [
      "🏃 View run Random Forest at: http://localhost:5000/#/experiments/676235388605344173/runs/b6ee8fc91ee54a0389d72343e2705b81\n",
      "🧪 View experiment at: http://localhost:5000/#/experiments/676235388605344173\n",
      "\n",
      " Training and logging: SVM\n",
      "SVM - Accuracy: 0.906, Precision: 0.905, Recall: 0.905, F1: 0.905\n"
     ]
    },
    {
     "name": "stderr",
     "output_type": "stream",
     "text": [
      "2025/09/18 10:56:23 WARNING mlflow.models.model: `artifact_path` is deprecated. Please use `name` instead.\n",
      "2025/09/18 10:56:30 WARNING mlflow.models.model: Model logged without a signature and input example. Please set `input_example` parameter when logging the model to auto infer the model signature.\n"
     ]
    },
    {
     "name": "stdout",
     "output_type": "stream",
     "text": [
      "🏃 View run SVM at: http://localhost:5000/#/experiments/676235388605344173/runs/0a1e317220b94879902bd99348ca7cde\n",
      "🧪 View experiment at: http://localhost:5000/#/experiments/676235388605344173\n",
      "\n",
      " All models trained and logged in MLflow.\n",
      "\n",
      " Best Model: SVM (Accuracy=0.906)\n"
     ]
    },
    {
     "name": "stderr",
     "output_type": "stream",
     "text": [
      "Registered model 'IrisBestModel' already exists. Creating a new version of this model...\n",
      "2025/09/18 10:56:32 WARNING mlflow.tracking._model_registry.fluent: Run with id 0a1e317220b94879902bd99348ca7cde has no artifacts at artifact path 'model', registering model based on models:/m-5dde5e244ce34b5e85061abd45d41386 instead\n",
      "2025/09/18 10:56:33 INFO mlflow.store.model_registry.abstract_store: Waiting up to 300 seconds for model version to finish creation. Model name: IrisBestModel, version 2\n"
     ]
    },
    {
     "name": "stdout",
     "output_type": "stream",
     "text": [
      "\n",
      "Best model registered in MLflow Model Registry as 'IrisBestModel'\n"
     ]
    },
    {
     "name": "stderr",
     "output_type": "stream",
     "text": [
      "Created version '2' of model 'IrisBestModel'.\n"
     ]
    }
   ],
   "source": [
    "import mlflow\n",
    "import mlflow.sklearn\n",
    "from sklearn.datasets import load_iris\n",
    "from sklearn.model_selection import train_test_split\n",
    "from sklearn.metrics import accuracy_score, precision_score, recall_score, f1_score, confusion_matrix\n",
    "from sklearn.linear_model import LogisticRegression\n",
    "from sklearn.ensemble import RandomForestClassifier\n",
    "from sklearn.svm import SVC\n",
    "import matplotlib.pyplot as plt\n",
    "import seaborn as sns\n",
    "import os\n",
    "import numpy as np\n",
    "\n",
    "# =====================\n",
    "# Setup MLflow\n",
    "# =====================\n",
    "mlflow.set_tracking_uri(\"http://localhost:5000\")\n",
    "mlflow.set_experiment(\"iris-comparison-different\")\n",
    "\n",
    "# =====================\n",
    "# Load dataset (with noise to make task harder)\n",
    "# =====================\n",
    "iris = load_iris()\n",
    "X, y = iris.data, iris.target\n",
    "\n",
    "# Add Gaussian noise so models behave differently\n",
    "rng = np.random.RandomState(42)\n",
    "X_noisy = X + rng.normal(0, 0.3, X.shape)\n",
    "\n",
    "# Smaller training set = harder problem\n",
    "X_train, X_test, y_train, y_test = train_test_split(\n",
    "    X_noisy, y, test_size=0.35, random_state=7, stratify=y\n",
    ")\n",
    "\n",
    "# =====================\n",
    "# Define models\n",
    "# =====================\n",
    "models = {\n",
    "    \"Logistic Regression\": LogisticRegression(max_iter=100, solver=\"liblinear\", C=0.2),\n",
    "    \"Random Forest\": RandomForestClassifier(n_estimators=20, max_depth=2, random_state=42),\n",
    "    \"SVM\": SVC(kernel=\"rbf\", probability=True, C=1.5, gamma=0.5, random_state=42)\n",
    "}\n",
    "\n",
    "# Directory for results\n",
    "results_dir = \"results\"\n",
    "os.makedirs(results_dir, exist_ok=True)\n",
    "\n",
    "# Store results for comparison\n",
    "results = []\n",
    "\n",
    "# =====================\n",
    "# Train & Log models\n",
    "# =====================\n",
    "for model_name, model in models.items():\n",
    "    with mlflow.start_run(run_name=model_name) as run:\n",
    "        print(f\"\\n Training and logging: {model_name}\")\n",
    "\n",
    "        # Train\n",
    "        model.fit(X_train, y_train)\n",
    "        y_pred = model.predict(X_test)\n",
    "   # ---- Metrics ----\n",
    "        acc = accuracy_score(y_test, y_pred)\n",
    "        prec = precision_score(y_test, y_pred, average=\"macro\")\n",
    "        rec = recall_score(y_test, y_pred, average=\"macro\")\n",
    "        f1 = f1_score(y_test, y_pred, average=\"macro\")\n",
    "\n",
    "        print(f\"{model_name} - Accuracy: {acc:.3f}, Precision: {prec:.3f}, Recall: {rec:.3f}, F1: {f1:.3f}\")\n",
    "\n",
    "        mlflow.log_metric(\"accuracy\", acc)\n",
    "        mlflow.log_metric(\"precision\", prec)\n",
    "        mlflow.log_metric(\"recall\", rec)\n",
    "        mlflow.log_metric(\"f1_score\", f1)\n",
    "\n",
    "        # ---- Parameters ----\n",
    "        if isinstance(model, LogisticRegression):\n",
    "            mlflow.log_param(\"C\", model.C)\n",
    "            mlflow.log_param(\"solver\", model.solver)\n",
    "        elif isinstance(model, RandomForestClassifier):\n",
    "            mlflow.log_param(\"n_estimators\", model.n_estimators)\n",
    "            mlflow.log_param(\"max_depth\", model.max_depth)\n",
    "        elif isinstance(model, SVC):\n",
    "            mlflow.log_param(\"kernel\", model.kernel)\n",
    "            mlflow.log_param(\"C\", model.C)\n",
    "            mlflow.log_param(\"gamma\", model.gamma)\n",
    "\n",
    "        # ---- Confusion Matrix ----\n",
    "        cm = confusion_matrix(y_test, y_pred)\n",
    "        plt.figure(figsize=(6, 4))\n",
    "        sns.heatmap(cm, annot=True, fmt=\"d\", cmap=\"Blues\",\n",
    "                    xticklabels=iris.target_names,\n",
    "                    yticklabels=iris.target_names)\n",
    "        plt.xlabel(\"Predicted\")\n",
    "        plt.ylabel(\"Actual\")\n",
    "        plt.title(f\"Confusion Matrix - {model_name}\")\n",
    "\n",
    "        plot_path = os.path.join(results_dir, f\"{model_name}_confusion_matrix.png\")\n",
    "        plt.savefig(plot_path)\n",
    "        plt.close()\n",
    "\n",
    "        mlflow.log_artifact(plot_path, artifact_path=\"plots\")\n",
    "  # ---- Log Model ----\n",
    "        mlflow.sklearn.log_model(model, artifact_path=\"model\")\n",
    "\n",
    "        # Save results for comparison\n",
    "        results.append({\n",
    "            \"model_name\": model_name,\n",
    "            \"run_id\": run.info.run_id,\n",
    "            \"accuracy\": acc,\n",
    "            \"model\": model\n",
    "        })\n",
    "\n",
    "print(\"\\n All models trained and logged in MLflow.\")\n",
    "\n",
    "# =====================\n",
    "# Select Best Model & Register\n",
    "# =====================\n",
    "best_model = max(results, key=lambda x: x[\"accuracy\"])\n",
    "print(f\"\\n Best Model: {best_model['model_name']} (Accuracy={best_model['accuracy']:.3f})\")\n",
    "\n",
    "# Register in MLflow Model Registry\n",
    "model_uri = f\"runs:/{best_model['run_id']}/model\"\n",
    "mlflow.register_model(model_uri, \"IrisBestModel\")\n",
    "\n",
    "print(\"\\nBest model registered in MLflow Model Registry as 'IrisBestModel'\")"
   ]
  },
  {
   "cell_type": "code",
   "execution_count": null,
   "id": "a03e8327",
   "metadata": {},
   "outputs": [],
   "source": []
  }
 ],
 "metadata": {
  "kernelspec": {
   "display_name": "Python 3 (ipykernel)",
   "language": "python",
   "name": "python3"
  },
  "language_info": {
   "codemirror_mode": {
    "name": "ipython",
    "version": 3
   },
   "file_extension": ".py",
   "mimetype": "text/x-python",
   "name": "python",
   "nbconvert_exporter": "python",
   "pygments_lexer": "ipython3",
   "version": "3.11.5"
  }
 },
 "nbformat": 4,
 "nbformat_minor": 5
}
